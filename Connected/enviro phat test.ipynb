{
 "cells": [
  {
   "cell_type": "markdown",
   "metadata": {},
   "source": [
    "# Enviro pHat Testing\n",
    "<br>\n",
    "Library install ref: https://learn.pimoroni.com/tutorial/sandyj/getting-started-with-enviro-phat\n",
    "\n",
    "Install the Enviro pHat Libraries\n",
    "\n",
    "curl https://get.pimoroni.com/envirophat | bash"
   ]
  },
  {
   "cell_type": "markdown",
   "metadata": {},
   "source": [
    "## Leds on board test"
   ]
  },
  {
   "cell_type": "code",
   "execution_count": 1,
   "metadata": {},
   "outputs": [
    {
     "data": {
      "text/plain": [
       "True"
      ]
     },
     "execution_count": 1,
     "metadata": {},
     "output_type": "execute_result"
    }
   ],
   "source": [
    "from envirophat import leds\n",
    "leds.on()"
   ]
  },
  {
   "cell_type": "code",
   "execution_count": 2,
   "metadata": {},
   "outputs": [],
   "source": [
    "leds.off()\n"
   ]
  },
  {
   "cell_type": "markdown",
   "metadata": {},
   "source": [
    "## Light sensors test"
   ]
  },
  {
   "cell_type": "code",
   "execution_count": 3,
   "metadata": {},
   "outputs": [
    {
     "name": "stdout",
     "output_type": "stream",
     "text": [
      "622\n"
     ]
    }
   ],
   "source": [
    "from envirophat import light\n",
    "print (light.light())"
   ]
  },
  {
   "cell_type": "code",
   "execution_count": 4,
   "metadata": {},
   "outputs": [
    {
     "name": "stdout",
     "output_type": "stream",
     "text": [
      "(161, 140, 126)\n"
     ]
    }
   ],
   "source": [
    "print (light.rgb())\n"
   ]
  },
  {
   "cell_type": "markdown",
   "metadata": {},
   "source": [
    "## Weather sensors (Temperature and Pressure) Test"
   ]
  },
  {
   "cell_type": "code",
   "execution_count": 5,
   "metadata": {},
   "outputs": [
    {
     "name": "stdout",
     "output_type": "stream",
     "text": [
      "34.38364957143203\n"
     ]
    }
   ],
   "source": [
    "from envirophat import weather\n",
    "print (weather.temperature())"
   ]
  },
  {
   "cell_type": "code",
   "execution_count": 6,
   "metadata": {},
   "outputs": [
    {
     "name": "stdout",
     "output_type": "stream",
     "text": [
      "97678.08678687784\n"
     ]
    }
   ],
   "source": [
    "print(weather.pressure(unit='kPa'))"
   ]
  },
  {
   "cell_type": "markdown",
   "metadata": {},
   "source": [
    "## Compass Test"
   ]
  },
  {
   "cell_type": "code",
   "execution_count": 7,
   "metadata": {},
   "outputs": [
    {
     "name": "stdout",
     "output_type": "stream",
     "text": [
      "319.15\n"
     ]
    }
   ],
   "source": [
    "from envirophat import motion\n",
    "print(motion.heading())"
   ]
  },
  {
   "cell_type": "markdown",
   "metadata": {},
   "source": [
    "## GAS Sensor Test (MQ2)\n",
    "\n",
    "Ref:  https://www.sunfounder.com/learn/lesson-22-gas-sensor-sensor-kit-v2-0-for-b-plus.html\n",
    "\n",
    "Connect the Gas sensor with: \n",
    "Sensor  -->  Enviro pHat\n",
    "------------------------------\n",
    "* VCC --> 5V \n",
    "* GND --> GND\n",
    "* AO --> 0"
   ]
  },
  {
   "cell_type": "code",
   "execution_count": 8,
   "metadata": {},
   "outputs": [
    {
     "name": "stdout",
     "output_type": "stream",
     "text": [
      "0.687\n"
     ]
    }
   ],
   "source": [
    "from envirophat import analog\n",
    "print (analog.read(0))"
   ]
  },
  {
   "cell_type": "markdown",
   "metadata": {},
   "source": [
    "## Code Loop Test using temp"
   ]
  },
  {
   "cell_type": "code",
   "execution_count": 15,
   "metadata": {},
   "outputs": [
    {
     "name": "stdout",
     "output_type": "stream",
     "text": [
      "The collected Temperature is 31.675999482667454\n",
      "The collected Temperature is 31.68025624529148\n",
      "The collected Temperature is 31.689073825721515\n",
      "The collected Temperature is 31.70214817087765\n",
      "The collected Temperature is 31.716438736592316\n",
      "The collected Temperature is 31.729209031483425\n",
      "The collected Temperature is 31.73954689072125\n",
      "The collected Temperature is 31.749580696532416\n",
      "The collected Temperature is 31.76904020224049\n",
      "The collected Temperature is 31.824682252068307\n",
      "The collected Temperature is 31.88427705804388\n",
      "The collected Temperature is 31.936574576818384\n",
      "The collected Temperature is 31.979750460686866\n",
      "The collected Temperature is 32.01350063939246\n",
      "The collected Temperature is 32.02687909248582\n",
      "The collected Temperature is 32.053636005275465\n",
      "The collected Temperature is 32.087082158643014\n",
      "The collected Temperature is 32.103501184421134\n",
      "The collected Temperature is 32.08191320676933\n",
      "The collected Temperature is 32.05333194939885\n",
      "The collected temperatures array is  [31.675999482667454, 31.68025624529148, 31.689073825721515, 31.70214817087765, 31.716438736592316, 31.729209031483425, 31.73954689072125, 31.749580696532416, 31.76904020224049, 31.824682252068307, 31.88427705804388, 31.936574576818384, 31.979750460686866, 32.01350063939246, 32.02687909248582, 32.053636005275465, 32.087082158643014, 32.103501184421134, 32.08191320676933, 32.05333194939885]\n"
     ]
    }
   ],
   "source": [
    "import time\n",
    "temp = []\n",
    "for x in range(20):\n",
    "    leds.on() ## Blinks LEDs to show when collecting data\n",
    "    temp.insert(x, weather.temperature())\n",
    "    print (\"The collected Temperature is\",temp[x])\n",
    "    leds.off()\n",
    "    time.sleep(1)\n",
    "print (\"The collected temperatures array is \", temp)\n",
    "    "
   ]
  },
  {
   "cell_type": "markdown",
   "metadata": {},
   "source": [
    "## Quick Graph\n",
    "\n",
    "{Note: Had to reinstall matlibplot using the line \"sudo pip3 install matplotlib --ignore-installed\" and installed \"sudo apt-get install libatlas-base-dev\" to get Matplotlib working}"
   ]
  },
  {
   "cell_type": "code",
   "execution_count": 16,
   "metadata": {},
   "outputs": [
    {
     "data": {
      "image/png": "[encoded data removed]",
      "text/plain": [
       "<Figure size 432x288 with 1 Axes>"
      ]
     },
     "metadata": {},
     "output_type": "display_data"
    }
   ],
   "source": [
    "import matplotlib.pyplot as plt\n",
    "plt.plot(temp)\n",
    "plt.show()"
   ]
  },
  {
   "cell_type": "code",
   "execution_count": null,
   "metadata": {},
   "outputs": [],
   "source": []
  }
 ],
 "metadata": {
  "kernelspec": {
   "display_name": "Python 3",
   "language": "python",
   "name": "python3"
  },
  "language_info": {
   "codemirror_mode": {
    "name": "ipython",
    "version": 3
   },
   "file_extension": ".py",
   "mimetype": "text/x-python",
   "name": "python",
   "nbconvert_exporter": "python",
   "pygments_lexer": "ipython3",
   "version": "3.5.3"
  }
 },
 "nbformat": 4,
 "nbformat_minor": 2
}
