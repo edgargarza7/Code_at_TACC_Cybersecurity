{
 "cells": [
  {
   "cell_type": "markdown",
   "metadata": {},
   "source": [
    "# Initial Code for blinking a light\n"
   ]
  },
  {
   "cell_type": "markdown",
   "metadata": {},
   "source": [
    "The code in this notebook is used to help you setup and control a blinking light on your Raspberry Pi 3 and/or Raspberry Pi Zero.\n",
    "\n",
    "## Materials\n",
    "\n",
    "1. Raspberry Pi 3/Zero\n",
    "2. LED (Light Emiting Diode)\n",
    "3. Resister\n",
    "4. *Optional - Breadboard with GPIO breakout header.\n",
    "\n",
    "## Connecting the Wires\n",
    "\n",
    "1. \n"
   ]
  },
  {
   "cell_type": "code",
   "execution_count": 6,
   "metadata": {
    "scrolled": true
   },
   "outputs": [],
   "source": [
    "import RPi.GPIO as GPIO\n",
    "import time\n",
    "GPIO.setmode(GPIO.BCM)\n",
    "GPIO.setup(21,GPIO.OUT)\n",
    "GPIO.setwarnings(False)\n",
    "GPIO.output(21,GPIO.LOW)\n",
    "\n",
    "## Can remove below '#' for testing\n",
    "#GPIO.output(21,GPIO.LOW)\n"
   ]
  },
  {
   "cell_type": "code",
   "execution_count": 4,
   "metadata": {},
   "outputs": [],
   "source": [
    "def light ( str ):\n",
    "        \"This function turns GPIO pin 21 to HIGH\"\n",
    "        state = str\n",
    "        if (state == 'on') : \n",
    "            GPIO.output(21,GPIO.HIGH)\n",
    "        elif (state == 'off') : \n",
    "            GPIO.output(21,GPIO.LOW)   \n",
    "        else : \n",
    "            print \"Must use on or off in function call\"    \n",
    "        return"
   ]
  },
  {
   "cell_type": "code",
   "execution_count": 5,
   "metadata": {},
   "outputs": [],
   "source": [
    "state = \"on\"\n",
    "light(state)\n"
   ]
  },
  {
   "cell_type": "code",
   "execution_count": null,
   "metadata": {},
   "outputs": [],
   "source": []
  }
 ],
 "metadata": {
  "kernelspec": {
   "display_name": "Python 2",
   "language": "python",
   "name": "python2"
  },
  "language_info": {
   "codemirror_mode": {
    "name": "ipython",
    "version": 2
   },
   "file_extension": ".py",
   "mimetype": "text/x-python",
   "name": "python",
   "nbconvert_exporter": "python",
   "pygments_lexer": "ipython2",
   "version": "2.7.13"
  }
 },
 "nbformat": 4,
 "nbformat_minor": 2
}
