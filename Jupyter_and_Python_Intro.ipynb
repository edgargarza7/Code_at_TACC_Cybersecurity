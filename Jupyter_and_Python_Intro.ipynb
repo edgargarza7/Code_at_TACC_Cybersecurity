{
 "cells": [
  {
   "cell_type": "markdown",
   "metadata": {},
   "source": [
    "# Jupyter Notebooks and Python Introduction\n",
    "\n",
    "The purpose of this session is to introduce the Python programming language as well as the use of the Jupyter Notebooks platform. \n",
    "\n",
    "## Objectives\n",
    "\n",
    "* The student will open a Jupyter Notebook ipynb file. \n",
    "* The student will understand the functions of \"Markdown\" and \"Code\" cells in Jupyter Notebooks.\n",
    "* The student will create and run a \"Hello World\" Python 3 program.\n",
    "* The student will perform basic math functions using Python.\n",
    "* The student will store a number into a variable.\n",
    "* The student will create and test a \"IF-Then-Else\" conditional.\n",
    "* The student will create and test a \"For\" loop.\n"
   ]
  },
  {
   "attachments": {},
   "cell_type": "markdown",
   "metadata": {},
   "source": [
    "# Jupyter Notebooks Introduction\n",
    "\n",
    "Jupyter Notebooks is a web based application that allows users to develop interactive documents. It is used by scientist around the world as a means to prove theories, work with data, and share findings with others.\n",
    "\n",
    "### Uses\n",
    "\n",
    "* Solving problems related to natural disasters\n",
    "* Working with genomic data (DNA/RNA) to find cures for diseases\n",
    "* Allowing scientists to search environmental sensor data to find solutions to poisonous chemicals.\n",
    "* Help physicists find information to describe both our earth and the universe. \n",
    "* Aide new programmers (just like you) to get started. \n",
    "\n",
    "### Materials Needed to Complete this Lab\n",
    "\n",
    "* A computer with Jupyter Notebooks and Python 3 installed \n",
    "    * The following script was created to automatically install and configure Jupyter Notebooks on a Raspberry Pi with the defaut Password of 'pi' -- __[http://bit.ly/pi-jupyter](http://bit.ly/pi-jupyter)__ \n",
    "    * *This session was designed with the expectation of being completed on a Raspberry Pi running Raspian.* \n"
   ]
  },
  {
   "cell_type": "markdown",
   "metadata": {},
   "source": [
    "\n",
    "## Opening Jupyter Notebooks on your Raspberry Pi\n",
    "\n",
    "Open your web browser and type \"localhost:8888\" and press [Enter/Return] You should see a screen open requesting your password. The default password is '**pi**'. Once enter you should see a screen simular to below.\n",
    "\n",
    "\n",
    "\n"
   ]
  },
  {
   "cell_type": "markdown",
   "metadata": {},
   "source": [
    "# [INSERT IMAGE OF JUPYTER]"
   ]
  },
  {
   "cell_type": "markdown",
   "metadata": {},
   "source": [
    "### Open your copy of this session by clicking the file Jupyter_and_Python.ipynb\n",
    "\n",
    "***\n",
    "\n",
    "# These boxes are called cells and can exist as either \"Markdown\" or \"Code\"\n",
    "\n"
   ]
  },
  {
   "cell_type": "markdown",
   "metadata": {},
   "source": [
    "This box has been set as markdown. You can think of it as the text editor of Jupyter Notebooks. The way you can tell it is a markdown cell is by clicking in the cell and looking at the menu bar at the top of the window were it says \"Markdown\". Right now this box doesn't look great because it hasn't been run. The run this cell, click in it and either press the [Shift] and [Enter/Return] keys or click \"Run\" at the top bar.  "
   ]
  },
  {
   "cell_type": "markdown",
   "metadata": {},
   "source": [
    "You can do a lot of things with markdown, here are a few examples:\n",
    "\n",
    "## Headers\n",
    "*Remember to run the cell with [Shift] and [Enter/Return] keys or click \"Run\" at the top bar to see what the text does*"
   ]
  },
  {
   "cell_type": "markdown",
   "metadata": {},
   "source": [
    "# Header 1\n",
    "## Header 2\n",
    "### Header 3"
   ]
  },
  {
   "cell_type": "markdown",
   "metadata": {},
   "source": [
    "Regular Text\n",
    "\n",
    "**Bold Text**\n",
    "\n",
    "*Italic Text*\n",
    "\n",
    "<font color=Green>Colors</font>\n",
    "\n",
    "<font color=Red>Colors</font>\n",
    "\n",
    "__[Hyperlink Text](http://tacc.utexas.edu)__"
   ]
  },
  {
   "cell_type": "markdown",
   "metadata": {},
   "source": [
    "Even math equations:\n",
    "\n",
    "$\\sqrt{3x-1}+(1+x)^2$ "
   ]
  },
  {
   "cell_type": "markdown",
   "metadata": {},
   "source": [
    "<h1><font color=Green>Self-Check</font></h1>\n",
    "\n",
    "Write your name in the cell below in Header 2 style and run the cell."
   ]
  },
  {
   "cell_type": "code",
   "execution_count": null,
   "metadata": {},
   "outputs": [],
   "source": []
  },
  {
   "cell_type": "markdown",
   "metadata": {},
   "source": [
    "There are lots of sites out there that can help you do just about anything but here is one for your notes __[https://github.com/adam-p/markdown-here/wiki/Markdown-Here-Cheatsheet](https://github.com/adam-p/markdown-here/wiki/Markdown-Here-Cheatsheet)__\n",
    "***\n"
   ]
  },
  {
   "cell_type": "markdown",
   "metadata": {},
   "source": [
    "# Python \"Hello World\"\n",
    "\n",
    "Now let's use a bit of the power found in Jupyter Notebooks and Python to write a program using a code type cell. Below is a one line Python code that should print (also known as output) the text \"Hello World\". Just as you did in the markdown cells above, run the below code cell using [Shift] and [Enter/Return] keys or click \"Run\" at the top bar.  "
   ]
  },
  {
   "cell_type": "code",
   "execution_count": null,
   "metadata": {},
   "outputs": [],
   "source": [
    "print (\"Hello World\")"
   ]
  },
  {
   "attachments": {
    "Screen%20Shot%202018-06-17%20at%207.19.28%20PM.png": {
     "image/png": "[encoded data removed]"
    }
   },
   "cell_type": "markdown",
   "metadata": {},
   "source": [
    "The output should look similar to the picture below:\n",
    "![Screen%20Shot%202018-06-17%20at%207.19.28%20PM.png](attachment:Screen%20Shot%202018-06-17%20at%207.19.28%20PM.png)"
   ]
  },
  {
   "cell_type": "markdown",
   "metadata": {},
   "source": [
    "The \"print (\"Hello World\")\" line is called a \"statement\" in programming terms. The format the statement is typed in is called the \"syntax\". You run or execute a statement or many lines of statements in a program. \n",
    "\n",
    "Change the below statement so that it prints your name, and then run it."
   ]
  },
  {
   "cell_type": "code",
   "execution_count": null,
   "metadata": {},
   "outputs": [],
   "source": [
    "print (\"Hello World\")"
   ]
  },
  {
   "cell_type": "markdown",
   "metadata": {},
   "source": [
    "Python can also do math. Type below 2+2 and run the cell."
   ]
  },
  {
   "cell_type": "code",
   "execution_count": null,
   "metadata": {},
   "outputs": [],
   "source": []
  },
  {
   "cell_type": "markdown",
   "metadata": {},
   "source": []
  }
 ],
 "metadata": {
  "kernelspec": {
   "display_name": "Python 3",
   "language": "python",
   "name": "python3"
  },
  "language_info": {
   "codemirror_mode": {
    "name": "ipython",
    "version": 3
   },
   "file_extension": ".py",
   "mimetype": "text/x-python",
   "name": "python",
   "nbconvert_exporter": "python",
   "pygments_lexer": "ipython3",
   "version": "3.6.2"
  }
 },
 "nbformat": 4,
 "nbformat_minor": 2
}
